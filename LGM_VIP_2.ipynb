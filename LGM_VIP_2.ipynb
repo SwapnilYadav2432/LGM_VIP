{
 "cells": [
  {
   "cell_type": "markdown",
   "id": "769c6f93",
   "metadata": {},
   "source": [
    "# LGMVIP-DATA SCIENCE TASK-2¶\n",
    "AUTHOR: Swapnil S Yadav\n",
    "\n",
    "Task 2:Image to Pencil Sketch with Python:\n",
    "\n",
    "In this task , We need to read the image in RBG format and then convert it to a grayscale image. This will turn an image into a classic black and white photo. Then the next thing to do is invert the grayscale image also called negative image, this will be our inverted grayscale image. Inversion can be used to enhance details. Then we can finally create the pencil sketch by mixing the grayscale image with the inverted blurry image. This can be done by dividing the grayscale image by the inverted blurry image. Since images are just arrays, we can easily do this programmatically using the divide function from the cv2 library in Python."
   ]
  },
  {
   "cell_type": "code",
   "execution_count": null,
   "id": "ee09834f",
   "metadata": {},
   "outputs": [],
   "source": [
    "import cv2\n",
    "\n",
    "#reading the image file\n",
    "img_rgb = cv2.imread(\"/content/Speak-like-Doremon--a-cartoon-character--women-told_1713038d0c1_medium.jpg\")\n",
    "\n",
    "#colour image to grey\n",
    "img_gray = cv2.cvtColor(img_rgb, cv2.COLOR_BGR2GRAY)\n",
    "\n",
    "#inverting grey image\n",
    "img_gray_inv = 255 - img_gray\n",
    "\n",
    "#applying Gaussian Blue\n",
    "img_blur = cv2.GaussianBlur(img_gray_inv, ksize=(21, 21),sigmaX=0, sigmaY=0)\n",
    "\n",
    "#applying dodge\n",
    "def dodgeV2(image, mask):\n",
    "  return (cv2.divide(image, 255-mask, scale=256))\n",
    "\n",
    "#applying burn\n",
    "def burnV2(image, mask):\n",
    "  return (255 - cv2.divide(255-image, 255-mask, scale=256))\n",
    "\n",
    "#blending to generate the sketch\n",
    "img_blend = dodgeV2(img_gray, img_blur)\n",
    "\n",
    "#displaying the sketch\n",
    "cv2.imwrite('result.jpg',img_blend)"
   ]
  }
 ],
 "metadata": {
  "kernelspec": {
   "display_name": "Python 3",
   "language": "python",
   "name": "python3"
  },
  "language_info": {
   "codemirror_mode": {
    "name": "ipython",
    "version": 3
   },
   "file_extension": ".py",
   "mimetype": "text/x-python",
   "name": "python",
   "nbconvert_exporter": "python",
   "pygments_lexer": "ipython3",
   "version": "3.6.7"
  }
 },
 "nbformat": 4,
 "nbformat_minor": 5
}
